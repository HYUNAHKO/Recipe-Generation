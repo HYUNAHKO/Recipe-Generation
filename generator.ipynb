{
 "cells": [
  {
   "cell_type": "code",
   "execution_count": null,
   "id": "176538dd-fb2e-4378-8b53-d9873797ee21",
   "metadata": {},
   "outputs": [],
   "source": [
    "from diffusers import StableDiffusionPipeline\n",
    "import torch\n",
    "from PIL import Image\n",
    "from IPython.display import display"
   ]
  },
  {
   "cell_type": "code",
   "execution_count": null,
   "id": "5b99aa7c-0540-44d6-8b29-3dd1cc252b0e",
   "metadata": {},
   "outputs": [],
   "source": [
    "food_name = \"vietnam rice noodle\"\n",
    "\n",
    "# 프롬프트 생성 함수\n",
    "def generate_prompt(food_name):\n",
    "    # 고화질 및 디테일 강화 프롬프트 템플릿\n",
    "    prompt_template = (\n",
    "        f\"A delicious and appetizing 4K photo of {food_name}, \"\n",
    "        \"ultra-detailed, food photography, high resolution, well-lit, vibrant colors, cinematic lighting\"\n",
    "    )\n",
    "    return prompt_template\n",
    "\n",
    "prompt = generate_prompt(food_name)\n",
    "print(f\"Generated Prompt: {prompt}\")\n",
    "\n",
    "device = torch.device(\"cuda\" if torch.cuda.is_available() else \"cpu\")\n",
    "\n",
    "# Stable Diffusion 모델 로드 및 디바이스 이동\n",
    "pipe = StableDiffusionPipeline.from_pretrained(\n",
    "    \"CompVis/stable-diffusion-v1-4\",\n",
    "    torch_dtype=torch.float16\n",
    ").to(device)\n",
    "\n",
    "# 음식 이미지 생성\n",
    "image = pipe(prompt).images[0]\n",
    "\n",
    "# 생성된 이미지 저장 (음식 이름을 포함)\n",
    "output_file_name = f\"{food_name.replace(' ', '_')}.png\"\n",
    "image.save(output_file_name)\n",
    "\n",
    "# 이미지 로드 및 출력\n",
    "image = Image.open(output_file_name)\n",
    "display(image)"
   ]
  }
 ],
 "metadata": {
  "kernelspec": {
   "display_name": "Python 3 (ipykernel)",
   "language": "python",
   "name": "python3"
  },
  "language_info": {
   "codemirror_mode": {
    "name": "ipython",
    "version": 3
   },
   "file_extension": ".py",
   "mimetype": "text/x-python",
   "name": "python",
   "nbconvert_exporter": "python",
   "pygments_lexer": "ipython3",
   "version": "3.10.13"
  }
 },
 "nbformat": 4,
 "nbformat_minor": 5
}
